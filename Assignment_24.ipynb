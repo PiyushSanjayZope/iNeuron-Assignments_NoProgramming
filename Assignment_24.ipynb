{
 "cells": [
  {
   "cell_type": "code",
   "execution_count": null,
   "id": "97dbee68",
   "metadata": {},
   "outputs": [],
   "source": [
    "\"\"\"\n",
    "1. What is the relationship between def statements and lambda expressions ?\n",
    "\n",
    "\"\"\""
   ]
  },
  {
   "cell_type": "code",
   "execution_count": 1,
   "id": "bcfcc687",
   "metadata": {},
   "outputs": [
    {
     "data": {
      "text/plain": [
       "\"\\ndef statement is used to create a normal function. where as lamba expressions are used to create Anonymous functions. which can be assigned to a variable and can be called using the variable later in function.\\n\\nLambda's body is a single expression and not a block of statements like def statement. The lambda expression's body is similar to what we'd put in a def body's return statement. We simply type the result as an expression instead of explicitly returning it. Because it is limited to an expression, a lambda is less general than a def statement.\\n\""
      ]
     },
     "execution_count": 1,
     "metadata": {},
     "output_type": "execute_result"
    }
   ],
   "source": [
    "\"\"\"\n",
    "def statement is used to create a normal function. where as lamba expressions are used to create Anonymous functions. which can be assigned to a variable and can be called using the variable later in function.\n",
    "\n",
    "Lambda's body is a single expression and not a block of statements like def statement. The lambda expression's body is similar to what we'd put in a def body's return statement. We simply type the result as an expression instead of explicitly returning it. Because it is limited to an expression, a lambda is less general than a def statement.\n",
    "\"\"\""
   ]
  },
  {
   "cell_type": "code",
   "execution_count": null,
   "id": "85c8760e",
   "metadata": {},
   "outputs": [],
   "source": [
    "\"\"\"\n",
    "2. What is the benefit of lambda?\n",
    "\n",
    "\"\"\""
   ]
  },
  {
   "cell_type": "code",
   "execution_count": null,
   "id": "5d3a0b42",
   "metadata": {},
   "outputs": [],
   "source": [
    "\"\"\"\n",
    "The following are some of the benefits of lambda expressions:\n",
    "\n",
    "Can be used to create Nameless/Anonymous functions inside some complex functions if we are planning to use it only once.\n",
    "Moderate to small functions can be created in a single line\n",
    "Fuctions created using lambda expressions can be assigned to a variable and can be used by simply calling the variable\n",
    "\"\"\""
   ]
  },
  {
   "cell_type": "code",
   "execution_count": null,
   "id": "ecee35d6",
   "metadata": {},
   "outputs": [],
   "source": [
    "\"\"\"\n",
    "3. Compare and contrast map, filter, and reduce.\n",
    "\n",
    "\"\"\""
   ]
  },
  {
   "cell_type": "code",
   "execution_count": 2,
   "id": "b0b325b8",
   "metadata": {},
   "outputs": [
    {
     "data": {
      "text/plain": [
       "'\\nThe differences between map, filter and reduce are:\\n\\nmap(): The map() function is a type of higher-order. This function takes another function as a parameter\\nalong with a sequence of iterables and returns an output after applying the function to each iterable present in the sequence. 2. filter(): The filter() function is used to create an output list consisting of values for which the function returns true. 3. reduce(): The reduce() function, as the name describes, applies a given function to the iterables and returns a single value\\n'"
      ]
     },
     "execution_count": 2,
     "metadata": {},
     "output_type": "execute_result"
    }
   ],
   "source": [
    "\"\"\"\n",
    "The differences between map, filter and reduce are:\n",
    "\n",
    "map(): The map() function is a type of higher-order. This function takes another function as a parameter\n",
    "along with a sequence of iterables and returns an output after applying the function to each iterable present in the sequence. 2. filter(): The filter() function is used to create an output list consisting of values for which the function returns true. 3. reduce(): The reduce() function, as the name describes, applies a given function to the iterables and returns a single value\n",
    "\"\"\""
   ]
  },
  {
   "cell_type": "code",
   "execution_count": 3,
   "id": "ce3a1d89",
   "metadata": {},
   "outputs": [
    {
     "name": "stdout",
     "output_type": "stream",
     "text": [
      "Map -> [2, 4, 6, 8]\n",
      "Filter -> [1, 3]\n",
      "Reduce -> 21\n"
     ]
    }
   ],
   "source": [
    "from functools import reduce\n",
    "# map function\n",
    "print('Map ->',list(map(lambda x:x+x, [1,2,3,4])))\n",
    "# fitler function\n",
    "print('Filter ->',list(filter(lambda x:x%2 !=0, [1,2,3,4])))\n",
    "# reduce function\n",
    "print('Reduce ->',reduce(lambda x,y:x+y, [1,2,3,4,5,6]))"
   ]
  },
  {
   "cell_type": "code",
   "execution_count": null,
   "id": "70740835",
   "metadata": {},
   "outputs": [],
   "source": [
    "\"\"\"\n",
    "4. What are function annotations, and how are they used?\n",
    "\n",
    "\"\"\""
   ]
  },
  {
   "cell_type": "code",
   "execution_count": 4,
   "id": "75f4e03e",
   "metadata": {},
   "outputs": [
    {
     "data": {
      "text/plain": [
       "'\\nFunction annotations provide a way of associating various parts of a function with arbitrary pythoncexpressions at compile time.\\nAnnotations of simple parameters def func(x: expression, y: expression = 20):\\nWhereas the annotations for excess parameters are as − def func (**args: expression, **kwargs: expression):\\n'"
      ]
     },
     "execution_count": 4,
     "metadata": {},
     "output_type": "execute_result"
    }
   ],
   "source": [
    "\"\"\"\n",
    "Function annotations provide a way of associating various parts of a function with arbitrary pythoncexpressions at compile time.\n",
    "Annotations of simple parameters def func(x: expression, y: expression = 20):\n",
    "Whereas the annotations for excess parameters are as − def func (**args: expression, **kwargs: expression):\n",
    "\"\"\""
   ]
  },
  {
   "cell_type": "code",
   "execution_count": null,
   "id": "3300f99c",
   "metadata": {},
   "outputs": [],
   "source": [
    "\"\"\"\n",
    "5. What are recursive functions, and how are they used?\n",
    "\n",
    "\"\"\""
   ]
  },
  {
   "cell_type": "code",
   "execution_count": 5,
   "id": "f8fc6f4c",
   "metadata": {},
   "outputs": [
    {
     "data": {
      "text/plain": [
       "'A recursive function is a function that calls itself during its execution. The process may repeat several times, outputting the result and the end of each iteration'"
      ]
     },
     "execution_count": 5,
     "metadata": {},
     "output_type": "execute_result"
    }
   ],
   "source": [
    "\"A recursive function is a function that calls itself during its execution. The process may repeat several times, outputting the result and the end of each iteration\""
   ]
  },
  {
   "cell_type": "code",
   "execution_count": null,
   "id": "bcc48a3d",
   "metadata": {},
   "outputs": [],
   "source": [
    "\"\"\"\n",
    "6. What are some general design guidelines for coding functions?\n",
    "\n",
    "\"\"\""
   ]
  },
  {
   "cell_type": "code",
   "execution_count": 6,
   "id": "7119ecf9",
   "metadata": {},
   "outputs": [
    {
     "data": {
      "text/plain": [
       "'\\nSome of the general design guidelines for coding functions are:\\n\\nAlways use a docstring to explain the functionality of the function\\navoid using or limited use of global variables\\nProper Identation to increase the code readability\\ntry to follow a naming convention for function names (pascalCase or camelCase) and stick with the same convention throughout the application.\\nAvoid using digits while choosing a variable name\\ntry to use a name for the function which conveys the purpose of the function\\nLocal variables should be named using camelCase format (ex: localVariable) whereas Global variables names should be using PascalCase (ex:GlobalVariable).\\nConstant should be represented in allcaps (ex:CONSTANT).\\n'"
      ]
     },
     "execution_count": 6,
     "metadata": {},
     "output_type": "execute_result"
    }
   ],
   "source": [
    "\"\"\"\n",
    "Some of the general design guidelines for coding functions are:\n",
    "\n",
    "Always use a docstring to explain the functionality of the function\n",
    "avoid using or limited use of global variables\n",
    "Proper Identation to increase the code readability\n",
    "try to follow a naming convention for function names (pascalCase or camelCase) and stick with the same convention throughout the application.\n",
    "Avoid using digits while choosing a variable name\n",
    "try to use a name for the function which conveys the purpose of the function\n",
    "Local variables should be named using camelCase format (ex: localVariable) whereas Global variables names should be using PascalCase (ex:GlobalVariable).\n",
    "Constant should be represented in allcaps (ex:CONSTANT).\n",
    "\"\"\""
   ]
  },
  {
   "cell_type": "code",
   "execution_count": null,
   "id": "27278ffa",
   "metadata": {},
   "outputs": [],
   "source": [
    "\"\"\"\n",
    "7. Name three or more ways that functions can communicate results to a caller.\n",
    "\n",
    "\"\"\""
   ]
  },
  {
   "cell_type": "code",
   "execution_count": 7,
   "id": "730726be",
   "metadata": {},
   "outputs": [
    {
     "data": {
      "text/plain": [
       "'\\nSome of the ways in which a function can communicate with the calling function is:\\n\\nprint\\nreturn\\nyield\\n'"
      ]
     },
     "execution_count": 7,
     "metadata": {},
     "output_type": "execute_result"
    }
   ],
   "source": [
    "\"\"\"\n",
    "Some of the ways in which a function can communicate with the calling function is:\n",
    "\n",
    "print\n",
    "return\n",
    "yield\n",
    "\"\"\""
   ]
  },
  {
   "cell_type": "code",
   "execution_count": null,
   "id": "b9a11283",
   "metadata": {},
   "outputs": [],
   "source": []
  }
 ],
 "metadata": {
  "kernelspec": {
   "display_name": "Python 3 (ipykernel)",
   "language": "python",
   "name": "python3"
  },
  "language_info": {
   "codemirror_mode": {
    "name": "ipython",
    "version": 3
   },
   "file_extension": ".py",
   "mimetype": "text/x-python",
   "name": "python",
   "nbconvert_exporter": "python",
   "pygments_lexer": "ipython3",
   "version": "3.9.12"
  }
 },
 "nbformat": 4,
 "nbformat_minor": 5
}
