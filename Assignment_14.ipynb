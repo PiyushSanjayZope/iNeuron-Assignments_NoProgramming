{
 "cells": [
  {
   "cell_type": "code",
   "execution_count": null,
   "id": "1e574d46",
   "metadata": {},
   "outputs": [],
   "source": [
    "\"\"\"\n",
    "1. What does RGBA stand for?\n",
    "\n",
    "\"\"\""
   ]
  },
  {
   "cell_type": "code",
   "execution_count": 1,
   "id": "eacb0fec",
   "metadata": {},
   "outputs": [
    {
     "data": {
      "text/plain": [
       "'RGBA is a four-channel format containing data for Red, Green, Blue, and an Alpha value. Where Alpha Represents the Opacity'"
      ]
     },
     "execution_count": 1,
     "metadata": {},
     "output_type": "execute_result"
    }
   ],
   "source": [
    "\"RGBA is a four-channel format containing data for Red, Green, Blue, and an Alpha value. Where Alpha Represents the Opacity\""
   ]
  },
  {
   "cell_type": "code",
   "execution_count": null,
   "id": "b947d7b4",
   "metadata": {},
   "outputs": [],
   "source": [
    "\"\"\"\n",
    "2. From the Pillow module, how do you get the RGBA value of any images?\n",
    "\n",
    "\"\"\""
   ]
  },
  {
   "cell_type": "code",
   "execution_count": 2,
   "id": "f2c45483",
   "metadata": {},
   "outputs": [
    {
     "data": {
      "text/plain": [
       "'ImageColor.getcolor() gives rgba value of any image'"
      ]
     },
     "execution_count": 2,
     "metadata": {},
     "output_type": "execute_result"
    }
   ],
   "source": [
    "\"ImageColor.getcolor() gives rgba value of any image\""
   ]
  },
  {
   "cell_type": "code",
   "execution_count": null,
   "id": "a4987fda",
   "metadata": {},
   "outputs": [],
   "source": [
    "\"\"\"\n",
    "3. What is a box tuple, and how does it work?\n",
    "\n",
    "\"\"\""
   ]
  },
  {
   "cell_type": "code",
   "execution_count": 3,
   "id": "3ead5da0",
   "metadata": {},
   "outputs": [
    {
     "data": {
      "text/plain": [
       "'A box tuple is a tuple value of four integers: the left-edge x-coordinate, the top-edge y-coordinate,the width, and the height, respectively.'"
      ]
     },
     "execution_count": 3,
     "metadata": {},
     "output_type": "execute_result"
    }
   ],
   "source": [
    "\"A box tuple is a tuple value of four integers: the left-edge x-coordinate, the top-edge y-coordinate,the width, and the height, respectively.\""
   ]
  },
  {
   "cell_type": "code",
   "execution_count": null,
   "id": "a63be139",
   "metadata": {},
   "outputs": [],
   "source": [
    "\"\"\"\n",
    "4. Use your image and load in notebook then, How can you find out the width and height of an Image object?\n",
    "\n",
    "\"\"\""
   ]
  },
  {
   "cell_type": "code",
   "execution_count": 4,
   "id": "3097f78d",
   "metadata": {},
   "outputs": [
    {
     "name": "stdout",
     "output_type": "stream",
     "text": [
      "Width, Height -> (275, 183)\n",
      "Width, Height -> 275,183\n",
      "Width, Height -> 275,183\n"
     ]
    }
   ],
   "source": [
    "from PIL import Image\n",
    "pic = Image.open('Pic.jpg')\n",
    "print(f'Width, Height -> {pic.size}') # Approach 1\n",
    "print(f'Width, Height -> {pic.width},{pic.height}') # Approach 2\n",
    "width,height = pic.size\n",
    "print(f'Width, Height -> {width},{height}') # Approach 3"
   ]
  },
  {
   "cell_type": "code",
   "execution_count": null,
   "id": "2d709f99",
   "metadata": {},
   "outputs": [],
   "source": [
    "\"\"\"\n",
    "5. What method would you call to get Image object for a 100×100 image, excluding the lower-left quarter of it?\n",
    "\n",
    "\"\"\""
   ]
  },
  {
   "cell_type": "code",
   "execution_count": 5,
   "id": "5feadfc6",
   "metadata": {},
   "outputs": [],
   "source": [
    "from PIL import Image\n",
    "img = Image.open('Pic.jpg')\n",
    "new_img = img.crop((0,50,50,50))"
   ]
  },
  {
   "cell_type": "code",
   "execution_count": null,
   "id": "7f8c31f8",
   "metadata": {},
   "outputs": [],
   "source": [
    "\"\"\"\n",
    "6. After making changes to an Image object, how could you save it as an image file?\n",
    "\n",
    "\"\"\""
   ]
  },
  {
   "cell_type": "code",
   "execution_count": 6,
   "id": "54f1773c",
   "metadata": {},
   "outputs": [],
   "source": [
    "from PIL import Image\n",
    "pic = Image.open('pic.jpg')\n",
    "pic.save('pic2.jpg')"
   ]
  },
  {
   "cell_type": "code",
   "execution_count": null,
   "id": "3b916e33",
   "metadata": {},
   "outputs": [],
   "source": [
    "\"\"\"\n",
    "7. What module contains Pillow’s shape-drawing code?\n",
    "\n",
    "\"\"\""
   ]
  },
  {
   "cell_type": "code",
   "execution_count": 8,
   "id": "5109a0f1",
   "metadata": {},
   "outputs": [
    {
     "data": {
      "text/plain": [
       "'Pillows ImageDraw module contains Shape drawing methods'"
      ]
     },
     "execution_count": 8,
     "metadata": {},
     "output_type": "execute_result"
    }
   ],
   "source": [
    "\"Pillows ImageDraw module contains Shape drawing methods\""
   ]
  },
  {
   "cell_type": "code",
   "execution_count": null,
   "id": "93688cbe",
   "metadata": {},
   "outputs": [],
   "source": [
    "\"\"\"\n",
    "8. Image objects do not have drawing methods. What kind of object does? How do you get this kind of object?\n",
    "\n",
    "\"\"\""
   ]
  },
  {
   "cell_type": "code",
   "execution_count": 9,
   "id": "26ea8aa2",
   "metadata": {},
   "outputs": [
    {
     "data": {
      "text/plain": [
       "'\\nImageDraw objects have shape-drawing methods such as point(), line(), or rectangle().They are returned by passing the Image object to the ImageDraw.Draw() function.\\n'"
      ]
     },
     "execution_count": 9,
     "metadata": {},
     "output_type": "execute_result"
    }
   ],
   "source": [
    "\"\"\"\n",
    "ImageDraw objects have shape-drawing methods such as point(), line(), or rectangle().They are returned by passing the Image object to the ImageDraw.Draw() function.\n",
    "\"\"\""
   ]
  },
  {
   "cell_type": "code",
   "execution_count": null,
   "id": "c0e3a508",
   "metadata": {},
   "outputs": [],
   "source": []
  }
 ],
 "metadata": {
  "kernelspec": {
   "display_name": "Python 3 (ipykernel)",
   "language": "python",
   "name": "python3"
  },
  "language_info": {
   "codemirror_mode": {
    "name": "ipython",
    "version": 3
   },
   "file_extension": ".py",
   "mimetype": "text/x-python",
   "name": "python",
   "nbconvert_exporter": "python",
   "pygments_lexer": "ipython3",
   "version": "3.9.12"
  }
 },
 "nbformat": 4,
 "nbformat_minor": 5
}
