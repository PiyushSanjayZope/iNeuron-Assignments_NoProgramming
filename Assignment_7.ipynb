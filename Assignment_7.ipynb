{
 "cells": [
  {
   "cell_type": "markdown",
   "id": "9a5a2fc4",
   "metadata": {},
   "source": [
    "# Assignment 7"
   ]
  },
  {
   "cell_type": "code",
   "execution_count": null,
   "id": "365742bf",
   "metadata": {},
   "outputs": [],
   "source": [
    "\"\"\"\n",
    "1. What is the name of the feature responsible for generating Regex objects?\n",
    "\"\"\"\n",
    "\"\"\"\n",
    "Ans - re.compile()\n",
    "\"\"\""
   ]
  },
  {
   "cell_type": "code",
   "execution_count": null,
   "id": "b798cc37",
   "metadata": {},
   "outputs": [],
   "source": [
    "\"\"\"\n",
    "2. Why do raw strings often appear in Regex objects?\n",
    "\"\"\"\n",
    "\"\"\"\n",
    "Ans - we use raw strings so that backslashes do not have to be escaped.\n",
    "\"\"\""
   ]
  },
  {
   "cell_type": "code",
   "execution_count": null,
   "id": "eb902802",
   "metadata": {},
   "outputs": [],
   "source": [
    "\"\"\"\n",
    "3. What is the return value of the search() method?\n",
    "\"\"\"\n",
    "\"\"\"\n",
    "Ans - It will either return a substring which we are trying to search else None\n",
    "\"\"\""
   ]
  },
  {
   "cell_type": "code",
   "execution_count": null,
   "id": "b13c25e5",
   "metadata": {},
   "outputs": [],
   "source": [
    "\"\"\"\n",
    "4. From a Match item, how do you get the actual strings that match the pattern?\n",
    "\"\"\"\n",
    "\"\"\"\n",
    "Ans - we can use group() method which returns the strings of matched text.\n",
    "\"\"\""
   ]
  },
  {
   "cell_type": "code",
   "execution_count": null,
   "id": "b5daca6f",
   "metadata": {},
   "outputs": [],
   "source": [
    "\"\"\"\n",
    "5. In the regex which created from the r'(\\d\\d\\d)-(\\d\\d\\d-\\d\\d\\d\\d)', what does group zero cover? Group 2? Group 1?\n",
    "\"\"\"\n",
    "\"\"\"\n",
    "Ans - group 0 - entire match\n",
    "      group 1 - first set of parentheses\n",
    "      group 2 - second set of parentheses\n",
    "\"\"\""
   ]
  },
  {
   "cell_type": "code",
   "execution_count": null,
   "id": "83fceede",
   "metadata": {},
   "outputs": [],
   "source": [
    "\"\"\"\n",
    "6. In standard expression syntax, parentheses and intervals have distinct meanings. How can you tell a regex that you want it to fit real parentheses and periods?\n",
    "\"\"\"\n",
    "\"\"\"\n",
    "Ans - Periods and parentheses can be escaped with a backslash: \\., \\(, and \\)\n",
    "\"\"\""
   ]
  },
  {
   "cell_type": "code",
   "execution_count": null,
   "id": "46885fa1",
   "metadata": {},
   "outputs": [],
   "source": [
    "\"\"\"\n",
    "7. The findall() method returns a string list or a list of string tuples. What causes it to return one of the two options?\n",
    "\"\"\"\n",
    "\"\"\"\n",
    "Ans - It depends upon if groups are present in regex\n",
    "      If groups are present - list of touple of strings is returned\n",
    "      If groups are not present - list of strings is returned\n",
    "\"\"\""
   ]
  },
  {
   "cell_type": "code",
   "execution_count": null,
   "id": "530a9e76",
   "metadata": {},
   "outputs": [],
   "source": [
    "\"\"\"\n",
    "8. In standard expressions, what does the | character mean?\n",
    "\"\"\"\n",
    "\"\"\"\n",
    "Ans - It is a bitwise or operator\n",
    "\"\"\""
   ]
  },
  {
   "cell_type": "code",
   "execution_count": null,
   "id": "65c5c6d8",
   "metadata": {},
   "outputs": [],
   "source": [
    "\"\"\"\n",
    "9. In regular expressions, what does the character stand for?\n",
    "\"\"\"\n",
    "\"\"\"\n",
    "Ans - All characters, except those having special meaning in regex, matches themselves\n",
    "\"\"\""
   ]
  },
  {
   "cell_type": "code",
   "execution_count": null,
   "id": "db2850e9",
   "metadata": {},
   "outputs": [],
   "source": [
    "\"\"\"\n",
    "10.In regular expressions, what is the difference between the + and * characters?\n",
    "\"\"\"\n",
    "\"\"\"\n",
    "Ans - Each of them are quantifiers, the star quantifier( * ) means that the preceding expression can match zero or more times it is like {0,} while the plus quantifier( + ) indicate that the preceding expression MUST match at least one time or multiple times and it is the same as {1,}\n",
    "\"\"\""
   ]
  },
  {
   "cell_type": "code",
   "execution_count": null,
   "id": "072780ef",
   "metadata": {},
   "outputs": [],
   "source": [
    "\"\"\"\n",
    "11. What is the difference between {4} and {4,5} in regular expression?\n",
    "\"\"\"\n",
    "\"\"\"\n",
    "Ans - \n",
    "\"\"\""
   ]
  },
  {
   "cell_type": "code",
   "execution_count": null,
   "id": "85a36e52",
   "metadata": {},
   "outputs": [],
   "source": [
    "\"\"\"\n",
    "12. What do you mean by the \\d, \\w, and \\s shorthand character classes signify in regular expressions?\n",
    "\"\"\"\n",
    "\"\"\"\n",
    "Ans - \\d : shorthand character classes match a single digit.\n",
    "      \\w : shorthand character classes match a single word.\n",
    "      \\s : shorthand character classes match a single space character.\n",
    "\"\"\""
   ]
  },
  {
   "cell_type": "code",
   "execution_count": null,
   "id": "3927edb1",
   "metadata": {},
   "outputs": [],
   "source": [
    "\"\"\"\n",
    "13. What do means by \\D, \\W, and \\S shorthand character classes signify in regular expressions?\n",
    "\"\"\"\n",
    "\"\"\"\n",
    "Ans - \\D : shorthand character classes match a single character that is not a digit.\n",
    "      \\W : shorthand character classes match a single character that is not a word.\n",
    "      \\S : shorthand character classes match a single character that is not a space character.\n",
    "\"\"\""
   ]
  },
  {
   "cell_type": "code",
   "execution_count": null,
   "id": "e1b14700",
   "metadata": {},
   "outputs": [],
   "source": [
    "\"\"\"\n",
    "14. What is the difference between .*? and .*?\n",
    "\"\"\"\n",
    "\"\"\"\n",
    "Ans - .*? is non greedy - will match nothing, but then will try to match extra characters \n",
    "      .* is greedy - it will match all the way to the end, and then backtrack\n",
    "\"\"\""
   ]
  },
  {
   "cell_type": "code",
   "execution_count": null,
   "id": "297ed0da",
   "metadata": {},
   "outputs": [],
   "source": [
    "\"\"\"\n",
    "15. What is the syntax for matching both numbers and lowercase letters with a character class?\n",
    "\"\"\"\n",
    "\"\"\"\n",
    "Ans -  Either [0-9a-z] or [a-z0-9]\n",
    "\"\"\""
   ]
  },
  {
   "cell_type": "code",
   "execution_count": null,
   "id": "807c5166",
   "metadata": {},
   "outputs": [],
   "source": [
    "\"\"\"\n",
    "16. What is the procedure for making a normal expression in regax case insensitive?\n",
    "\"\"\"\n",
    "\"\"\"\n",
    "Ans - Passing re.I or re.IGNORECASE as the second argument to re.compile() will make the matching case insensitive.\n",
    "\"\"\""
   ]
  },
  {
   "cell_type": "code",
   "execution_count": null,
   "id": "78890f15",
   "metadata": {},
   "outputs": [],
   "source": [
    "\"\"\"\n",
    "17. What does the . character normally match? What does it match if re.DOTALL is passed as 2nd argument in re.compile()?\n",
    "\"\"\"\n",
    "\"\"\"\n",
    "Ans - The . character normally matches any character except the newline character. If re.DOTALL is passed as the second argument to re.compile(), then the dot will also match newline characters.\n",
    "\"\"\""
   ]
  },
  {
   "cell_type": "code",
   "execution_count": null,
   "id": "7f56efbb",
   "metadata": {},
   "outputs": [],
   "source": [
    "\"\"\"\n",
    "18. If numReg = re.compile(r'\\d+'), what will numRegex.sub('X', '11 drummers, 10 pipers, five rings, 4 hen') return?\n",
    "\"\"\"\n",
    "\"\"\"\n",
    "Ans - 'X drummers, X pipers, five rings, X hens'\n",
    "\"\"\""
   ]
  },
  {
   "cell_type": "code",
   "execution_count": null,
   "id": "ea37813c",
   "metadata": {},
   "outputs": [],
   "source": [
    "\"\"\"\n",
    "19. What does passing re.VERBOSE as the 2nd argument to re.compile() allow to do?\n",
    "\"\"\"\n",
    "\"\"\"\n",
    "Ans - The re.VERBOSE argument allows you to add whitespace and comments to the string passed to re.compile()\n",
    "\"\"\""
   ]
  },
  {
   "cell_type": "code",
   "execution_count": null,
   "id": "da530766",
   "metadata": {},
   "outputs": [],
   "source": [
    "\"\"\"\n",
    "20. How would you write a regex that match a number with comma for every three digits? It must match the given following:\n",
    "'42'\n",
    "'1,234'\n",
    "'6,368,745'\n",
    "but not the following:\n",
    "'12,34,567' (which has only two digits between the commas)\n",
    "'1234' (which lacks commas)\n",
    "\"\"\"\n",
    "\"\"\"\n",
    "Ans - e.compile(r'^\\d{1,3}(,{3})*$') will create this regex.\n",
    "\"\"\""
   ]
  },
  {
   "cell_type": "code",
   "execution_count": null,
   "id": "00b2cca1",
   "metadata": {},
   "outputs": [],
   "source": [
    "\"\"\"\n",
    "21. How would you write a regex that matches the full name of someone whose last name is Watanabe? You can assume that the first name that comes before it will always be one word that begins with a capital letter. The regex must match the following:\n",
    "'Haruto Watanabe'\n",
    "'Alice Watanabe'\n",
    "'RoboCop Watanabe'\n",
    "but not the following:\n",
    "'haruto Watanabe' (where the first name is not capitalized)\n",
    "'Mr. Watanabe' (where the preceding word has a nonletter character)\n",
    "'Watanabe' (which has no first name)\n",
    "'Haruto watanabe' (where Watanabe is not capitalized)\n",
    "\"\"\"\n",
    "\"\"\"\n",
    "Ans - re.compile(r'[A-Z][a-z]*\\sWatanabe')\n",
    "\"\"\""
   ]
  },
  {
   "cell_type": "code",
   "execution_count": null,
   "id": "0b9520e3",
   "metadata": {},
   "outputs": [],
   "source": [
    "\"\"\"\n",
    "22. How would you write a regex that matches a sentence where the first word is either Alice, Bob, or Carol; the second word is either eats, pets, or throws; the third word is apples, cats, or baseballs; and the sentence ends with a period? This regex should be case-insensitive. It must match the following:\n",
    "'Alice eats apples.'\n",
    "'Bob pets cats.'\n",
    "'Carol throws baseballs.'\n",
    "'Alice throws Apples.'\n",
    "'BOB EATS CATS.'\n",
    "but not the following:\n",
    "'RoboCop eats apples.'\n",
    "'ALICE THROWS FOOTBALLS.'\n",
    "'Carol eats 7 cats.'\n",
    "\"\"\"\n",
    "\"\"\"\n",
    "Ans - re.compile(r'(Alice|Bob|Carol)\\s(eats|pets|throws)\\ s(apples|cats|baseballs)\\.', re.IGNORECASE)\n",
    "\"\"\""
   ]
  }
 ],
 "metadata": {
  "kernelspec": {
   "display_name": "Python 3 (ipykernel)",
   "language": "python",
   "name": "python3"
  },
  "language_info": {
   "codemirror_mode": {
    "name": "ipython",
    "version": 3
   },
   "file_extension": ".py",
   "mimetype": "text/x-python",
   "name": "python",
   "nbconvert_exporter": "python",
   "pygments_lexer": "ipython3",
   "version": "3.9.12"
  }
 },
 "nbformat": 4,
 "nbformat_minor": 5
}
