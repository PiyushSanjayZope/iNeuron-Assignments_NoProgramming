{
 "cells": [
  {
   "cell_type": "markdown",
   "id": "7c11777e",
   "metadata": {},
   "source": [
    "# Assignment 6"
   ]
  },
  {
   "cell_type": "code",
   "execution_count": null,
   "id": "477b6f9d",
   "metadata": {},
   "outputs": [],
   "source": [
    "\"\"\"\n",
    "1. What are escape characters, and how do you use them?\n",
    "\"\"\"\n",
    "\"\"\"\n",
    "Ans - We use escape characters to insert illegal characters in string. There are several escape characters like \\, \\\\, \\n, \\r, \\t etc\n",
    "\"\"\""
   ]
  },
  {
   "cell_type": "code",
   "execution_count": null,
   "id": "46066ab5",
   "metadata": {},
   "outputs": [],
   "source": [
    "\"\"\"\n",
    "2. What do the escape characters n and t stand for?\n",
    "\"\"\"\n",
    "\"\"\"\n",
    "Ans - \\n - newline, \\t - tab\n",
    "\"\"\""
   ]
  },
  {
   "cell_type": "code",
   "execution_count": null,
   "id": "cd844210",
   "metadata": {},
   "outputs": [],
   "source": [
    "\"\"\"\n",
    "3. What is the way to include backslash characters in a string?\n",
    "\"\"\"\n",
    "\"\"\"\n",
    "Ans -   str1 = \"\\\\piyush\";\n",
    "        str2 = @\"\\piyush\";\n",
    "\"\"\""
   ]
  },
  {
   "cell_type": "code",
   "execution_count": null,
   "id": "094a3265",
   "metadata": {},
   "outputs": [],
   "source": [
    "\"\"\"\n",
    "4. The string \"Howl's Moving Castle\" is a correct value. Why isn't the single quote character in the word Howl's not escaped a problem?\n",
    "\"\"\"\n",
    "\"\"\"\n",
    "Ans - because the string is surrounded by double quotes.\n",
    "\"\"\""
   ]
  },
  {
   "cell_type": "code",
   "execution_count": 2,
   "id": "6e44dd94",
   "metadata": {},
   "outputs": [
    {
     "name": "stdout",
     "output_type": "stream",
     "text": [
      "piyush\n",
      "        zope\n",
      "    ineuron\n"
     ]
    }
   ],
   "source": [
    "\"\"\"\n",
    "5. How do you write a string of newlines if you don't want to use the n character?\n",
    "\"\"\"\n",
    "\"\"\"\n",
    "Ans - 1st way\n",
    "      print('Piyush')\n",
    "      print('zope')\n",
    "\"\"\"      \n",
    "      #2nd way\n",
    "print(\"\"\"piyush\n",
    "        zope\n",
    "    ineuron\"\"\")"
   ]
  },
  {
   "cell_type": "code",
   "execution_count": 7,
   "id": "fbd22a21",
   "metadata": {},
   "outputs": [
    {
     "data": {
      "text/plain": [
       "\"\\nAns -   'Hello, world!'[1] = e\\n        'Hello, world!'[0:5] = Hello\\n        'Hello, world!'[:5] = Hello\\n        'Hello, world!'[3:] = lo, world!\\n\""
      ]
     },
     "execution_count": 7,
     "metadata": {},
     "output_type": "execute_result"
    }
   ],
   "source": [
    "\"\"\"\n",
    "6. What are the values of the given expressions?\n",
    "'Hello, world!'[1]\n",
    "'Hello, world!'[0:5]\n",
    "'Hello, world!'[:5]\n",
    "'Hello, world!'[3:]\n",
    "\"\"\"\n",
    "\"\"\"\n",
    "Ans -   'Hello, world!'[1] = e\n",
    "        'Hello, world!'[0:5] = Hello\n",
    "        'Hello, world!'[:5] = Hello\n",
    "        'Hello, world!'[3:] = lo, world!\n",
    "\"\"\""
   ]
  },
  {
   "cell_type": "code",
   "execution_count": 11,
   "id": "dcf87457",
   "metadata": {},
   "outputs": [
    {
     "data": {
      "text/plain": [
       "\"\\nAns - \\n\\n'Hello'.upper() = HELLO\\n'Hello'.upper().isupper() = True\\n'Hello'.upper().lower() = hello\\n\\n\""
      ]
     },
     "execution_count": 11,
     "metadata": {},
     "output_type": "execute_result"
    }
   ],
   "source": [
    "\"\"\"\n",
    "7. What are the values of the following expressions?\n",
    "'Hello'.upper()\n",
    "'Hello'.upper().isupper()\n",
    "'Hello'.upper().lower()\n",
    "\"\"\"\n",
    "\"\"\"\n",
    "Ans - \n",
    "\n",
    "'Hello'.upper() = HELLO\n",
    "'Hello'.upper().isupper() = True\n",
    "'Hello'.upper().lower() = hello\n",
    "\n",
    "\"\"\""
   ]
  },
  {
   "cell_type": "code",
   "execution_count": 14,
   "id": "dde2590d",
   "metadata": {},
   "outputs": [
    {
     "data": {
      "text/plain": [
       "\"\\nAns - \\n\\n'Remember, remember, the fifth of July.'.split() = ['Remember,', 'remember,', 'the', 'fifth', 'of', 'July.']\\n\\n'-'.join('There can only one.'.split()) = There-can-only-one.\\n\\n\""
      ]
     },
     "execution_count": 14,
     "metadata": {},
     "output_type": "execute_result"
    }
   ],
   "source": [
    "\"\"\"\n",
    "8. What are the values of the following expressions?\n",
    "'Remember, remember, the fifth of July.'.split()\n",
    "'-'.join('There can only one.'.split())\n",
    "\"\"\"\n",
    "\"\"\"\n",
    "Ans - \n",
    "\n",
    "'Remember, remember, the fifth of July.'.split() = ['Remember,', 'remember,', 'the', 'fifth', 'of', 'July.']\n",
    "\n",
    "'-'.join('There can only one.'.split()) = There-can-only-one.\n",
    "\n",
    "\"\"\""
   ]
  },
  {
   "cell_type": "code",
   "execution_count": 18,
   "id": "ee78d2ff",
   "metadata": {},
   "outputs": [
    {
     "data": {
      "text/plain": [
       "'\\nAns - \\n2nd argument(char_to_fill) is optional\\nstr.ljust(len, char_to_fill)\\nstr.rjust(len, char_to_fill)\\nstr.center(len, char_to_fill)\\n\\n'"
      ]
     },
     "execution_count": 18,
     "metadata": {},
     "output_type": "execute_result"
    }
   ],
   "source": [
    "\"\"\"\n",
    "9. What are the methods for right-justifying, left-justifying, and centering a string?\n",
    "\"\"\"\n",
    "\"\"\"\n",
    "Ans - \n",
    "2nd argument(char_to_fill) is optional\n",
    "str.ljust(len, char_to_fill)\n",
    "str.rjust(len, char_to_fill)\n",
    "str.center(len, char_to_fill)\n",
    "\n",
    "\"\"\""
   ]
  },
  {
   "cell_type": "code",
   "execution_count": null,
   "id": "d70a12df",
   "metadata": {},
   "outputs": [],
   "source": [
    "\"\"\"\n",
    "10. What is the best way to remove whitespace characters from the start or end?\n",
    "\"\"\"\n",
    "\"\"\"\n",
    "Ans - we can use strip() function to remove whitespaces from both ends.\n",
    "      lstrip() - to remove whitespaces from left end\n",
    "      rstrip() - to remove whitespaces from right end\n",
    "    \n",
    "\"\"\""
   ]
  }
 ],
 "metadata": {
  "kernelspec": {
   "display_name": "Python 3 (ipykernel)",
   "language": "python",
   "name": "python3"
  },
  "language_info": {
   "codemirror_mode": {
    "name": "ipython",
    "version": 3
   },
   "file_extension": ".py",
   "mimetype": "text/x-python",
   "name": "python",
   "nbconvert_exporter": "python",
   "pygments_lexer": "ipython3",
   "version": "3.9.12"
  }
 },
 "nbformat": 4,
 "nbformat_minor": 5
}
