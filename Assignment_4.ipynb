{
 "cells": [
  {
   "cell_type": "markdown",
   "id": "56add726",
   "metadata": {},
   "source": [
    "# Assignment 4 "
   ]
  },
  {
   "cell_type": "code",
   "execution_count": null,
   "id": "988a6c01",
   "metadata": {},
   "outputs": [],
   "source": [
    "\"\"\"\n",
    "1. What exactly is []?\n",
    "\"\"\"\n",
    "\"\"\"Ans - It is just a syntax to initialize list and [] empty square brackets indicate an empty list\n",
    "\n",
    "\"\"\""
   ]
  },
  {
   "cell_type": "code",
   "execution_count": 5,
   "id": "33837471",
   "metadata": {},
   "outputs": [
    {
     "data": {
      "text/plain": [
       "[2, 4, 'hello', 8, 10]"
      ]
     },
     "execution_count": 5,
     "metadata": {},
     "output_type": "execute_result"
    }
   ],
   "source": [
    "\"\"\"\n",
    "2. In a list of values stored in a variable called spam, how would you assign the value 'hello' as the third value? (Assume [2, 4, 6, 8, 10] are in spam.)\n",
    "Let's pretend the spam includes the list ['a', 'b', 'c', 'd'] for the next three queries.\n",
    "\"\"\"\n",
    "\"\"\"Ans - \n",
    "\"\"\"\n",
    "spam = [2, 4, 6, 8, 10]\n",
    "spam[2] = 'hello'\n",
    "spam"
   ]
  },
  {
   "cell_type": "code",
   "execution_count": 2,
   "id": "5102611e",
   "metadata": {},
   "outputs": [
    {
     "data": {
      "text/plain": [
       "'d'"
      ]
     },
     "execution_count": 2,
     "metadata": {},
     "output_type": "execute_result"
    }
   ],
   "source": [
    "\"\"\"\n",
    "3. What is the value of spam[int(int('3' * 2) / 11)]?\n",
    "\"\"\"\n",
    "\"\"\"Ans - 'd'\n",
    "\"\"\"\n",
    "spam = ['a', 'b', 'c', 'd']\n",
    "val = spam[int(int('3' * 2) / 11)]\n",
    "val"
   ]
  },
  {
   "cell_type": "code",
   "execution_count": 3,
   "id": "1149be8b",
   "metadata": {},
   "outputs": [
    {
     "data": {
      "text/plain": [
       "'d'"
      ]
     },
     "execution_count": 3,
     "metadata": {},
     "output_type": "execute_result"
    }
   ],
   "source": [
    "\"\"\"\n",
    "4. What is the value of spam[-1]?\n",
    "\"\"\"\n",
    "\"\"\"Ans - 'd'\n",
    "\"\"\"\n",
    "spam = ['a', 'b', 'c', 'd']\n",
    "spam[-1]"
   ]
  },
  {
   "cell_type": "code",
   "execution_count": 4,
   "id": "5a9cd2cd",
   "metadata": {},
   "outputs": [
    {
     "data": {
      "text/plain": [
       "['a', 'b']"
      ]
     },
     "execution_count": 4,
     "metadata": {},
     "output_type": "execute_result"
    }
   ],
   "source": [
    "\"\"\"\n",
    "5. What is the value of spam[:2]?\n",
    "Let's pretend bacon has the list [3.14, 'cat,' 11, 'cat,' True] for the next three questions.\n",
    "\"\"\"\n",
    "\"\"\"Ans - ['a', 'b']\n",
    "\"\"\"\n",
    "spam = ['a', 'b', 'c', 'd']\n",
    "spam[:2]"
   ]
  },
  {
   "cell_type": "code",
   "execution_count": 8,
   "id": "364cb109",
   "metadata": {},
   "outputs": [
    {
     "data": {
      "text/plain": [
       "1"
      ]
     },
     "execution_count": 8,
     "metadata": {},
     "output_type": "execute_result"
    }
   ],
   "source": [
    "\"\"\"\n",
    "6. What is the value of bacon.index('cat')?\n",
    "\"\"\"\n",
    "\"\"\"Ans - 1\n",
    "\n",
    "\"\"\"\n",
    "bacon = [3.14, 'cat', 11, 'cat', True]\n",
    "bacon.index('cat')"
   ]
  },
  {
   "cell_type": "code",
   "execution_count": 10,
   "id": "0906f171",
   "metadata": {},
   "outputs": [
    {
     "data": {
      "text/plain": [
       "[3.14, 'cat', 11, 'cat', True, 99]"
      ]
     },
     "execution_count": 10,
     "metadata": {},
     "output_type": "execute_result"
    }
   ],
   "source": [
    "\"\"\"\n",
    "7. How does bacon.append(99) change the look of the list value in bacon?\n",
    "\"\"\"\n",
    "\"\"\"Ans - [3.14, 'cat', 11, 'cat', True, 99]\n",
    "\"\"\"\n",
    "bacon = [3.14, 'cat', 11, 'cat', True]\n",
    "bacon.append(99)\n",
    "bacon"
   ]
  },
  {
   "cell_type": "code",
   "execution_count": 11,
   "id": "3941f95c",
   "metadata": {},
   "outputs": [
    {
     "data": {
      "text/plain": [
       "[3.14, 11, 'cat', True]"
      ]
     },
     "execution_count": 11,
     "metadata": {},
     "output_type": "execute_result"
    }
   ],
   "source": [
    "\"\"\"\n",
    "8. How does bacon.remove('cat') change the look of the list in bacon?\n",
    "\"\"\"\n",
    "\"\"\"Ans - [3.14, 11, 'cat', True]\n",
    "\"\"\"\n",
    "bacon = [3.14, 'cat', 11, 'cat', True]\n",
    "bacon.remove('cat')\n",
    "bacon"
   ]
  },
  {
   "cell_type": "code",
   "execution_count": null,
   "id": "968165be",
   "metadata": {},
   "outputs": [],
   "source": [
    "\"\"\"\n",
    "9. What are the list concatenation and list replication operators?\n",
    "\"\"\"\n",
    "\"\"\"Ans - We can conconate list using + and replicate them using *\n",
    "\n",
    "\"\"\""
   ]
  },
  {
   "cell_type": "code",
   "execution_count": null,
   "id": "8929be49",
   "metadata": {},
   "outputs": [],
   "source": [
    "\"\"\"\n",
    "10. What is difference between the list methods append() and insert()?\n",
    "\"\"\"\n",
    "\"\"\"Ans - one can use append to add element to end of list and insert is useful for index specific insertion\n",
    "\n",
    "\"\"\""
   ]
  },
  {
   "cell_type": "code",
   "execution_count": null,
   "id": "27374991",
   "metadata": {},
   "outputs": [],
   "source": [
    "\"\"\"\n",
    "11. What are the two methods for removing items from a list?\n",
    "\"\"\"\n",
    "\"\"\"Ans - remove and pop are used to remove item from list. remove needs argument which needs to be removed and pop is index specific.\n",
    "\n",
    "\"\"\""
   ]
  },
  {
   "cell_type": "code",
   "execution_count": null,
   "id": "68e7d43d",
   "metadata": {},
   "outputs": [],
   "source": [
    "\"\"\"\n",
    "12. Describe how list values and string values are identical.\n",
    "\"\"\"\n",
    "\"\"\"Ans - There is one similarity between them is that they are in sequence\n",
    "\n",
    "\"\"\""
   ]
  },
  {
   "cell_type": "code",
   "execution_count": null,
   "id": "73b4c749",
   "metadata": {},
   "outputs": [],
   "source": [
    "\"\"\"\n",
    "13. What's the difference between tuples and lists?\n",
    "\"\"\"\n",
    "\"\"\"Ans - tuples are immutable and lists are mutable\n",
    "\n",
    "\"\"\""
   ]
  },
  {
   "cell_type": "code",
   "execution_count": null,
   "id": "ba5bb278",
   "metadata": {},
   "outputs": [],
   "source": [
    "\"\"\"\n",
    "14. How do you type a tuple value that only contains the integer 42?\n",
    "\"\"\"\n",
    "\"\"\"Ans - var1 = ('a',)\n",
    "\n",
    "\"\"\""
   ]
  },
  {
   "cell_type": "code",
   "execution_count": 2,
   "id": "a91c4dd7",
   "metadata": {},
   "outputs": [
    {
     "data": {
      "text/plain": [
       "(1, 'a', 2)"
      ]
     },
     "execution_count": 2,
     "metadata": {},
     "output_type": "execute_result"
    }
   ],
   "source": [
    "\"\"\"\n",
    "15. How do you get a list value's tuple form? How do you get a tuple value's list form?\n",
    "\"\"\"\n",
    "\"\"\"Ans - We can use a built in tuple function to get list value's tuple form\n",
    "        list1 = ['a','b','c']\n",
    "        tuple1 = tuple(list1)\n",
    "        tuple1\n",
    "\n",
    "\"\"\"\n",
    "list1 = ['a','b','c']\n",
    "tuple1 = tuple(list1)\n",
    "tuple1\n",
    "\n",
    "\"\"\"Ans - We can use a built in tuple function to get list value's tuple form\n",
    "        tuple1 = (1,'a', 2)\n",
    "        list1 = list(tuple1)\n",
    "        tuple1\n",
    "\n",
    "\"\"\"\n",
    "tuple1 = (1,'a', 2)\n",
    "list1 = list(tuple1)\n",
    "tuple1"
   ]
  },
  {
   "cell_type": "code",
   "execution_count": null,
   "id": "24a31fc5",
   "metadata": {},
   "outputs": [],
   "source": [
    "\"\"\"\n",
    "16. Variables that \"contain\" list values are not necessarily lists themselves. Instead, what do they contain?\n",
    "\"\"\"\n",
    "\"\"\"Ans - Variables contains refrence to list values rather than list value themselves. \n",
    "\n",
    "\"\"\""
   ]
  },
  {
   "cell_type": "code",
   "execution_count": null,
   "id": "810bbeaf",
   "metadata": {},
   "outputs": [],
   "source": [
    "\"\"\"\n",
    "17. How do you distinguish between copy.copy() and copy.deepcopy()?\n",
    "\"\"\"\n",
    "\"\"\"Ans - There concept of shallow and deep copy in this case.\n",
    "         In copy.copy() will create a copy and if we modify new list then it will reflect in original as well.\n",
    "         In copy.deepcopy() it will create new list and if we modify new list there will be no change in original.\n",
    "\n",
    "\"\"\""
   ]
  }
 ],
 "metadata": {
  "kernelspec": {
   "display_name": "Python 3 (ipykernel)",
   "language": "python",
   "name": "python3"
  },
  "language_info": {
   "codemirror_mode": {
    "name": "ipython",
    "version": 3
   },
   "file_extension": ".py",
   "mimetype": "text/x-python",
   "name": "python",
   "nbconvert_exporter": "python",
   "pygments_lexer": "ipython3",
   "version": "3.9.12"
  }
 },
 "nbformat": 4,
 "nbformat_minor": 5
}
