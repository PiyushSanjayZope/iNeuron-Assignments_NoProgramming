{
 "cells": [
  {
   "cell_type": "code",
   "execution_count": null,
   "id": "75bffe36",
   "metadata": {},
   "outputs": [],
   "source": [
    "\"\"\"\n",
    "1. Create a list called years_list, starting with the year of your birth, and each year thereafter until the year of your fifth birthday. For example, if you were born in 1980. the list would be years_list = [1980, 1981, 1982, 1983, 1984, 1985].\n",
    "\n",
    "\"\"\""
   ]
  },
  {
   "cell_type": "code",
   "execution_count": 1,
   "id": "1be10be6",
   "metadata": {},
   "outputs": [
    {
     "name": "stdout",
     "output_type": "stream",
     "text": [
      "[1987, 1988, 1989, 1990, 1991, 1992, 1993, 1994, 1995, 1996, 1997, 1998, 1999, 2000, 2001, 2002, 2003, 2004]\n"
     ]
    }
   ],
   "source": [
    "years_list = [ele for ele in range(1987,1999+6)]\n",
    "print(years_list)"
   ]
  },
  {
   "cell_type": "code",
   "execution_count": null,
   "id": "7f904ab3",
   "metadata": {},
   "outputs": [],
   "source": [
    "\"\"\"\n",
    "2. In which year in years_list was your third birthday? Remember, you were 0 years of age for your first year.\n",
    "\n",
    "\"\"\""
   ]
  },
  {
   "cell_type": "code",
   "execution_count": 2,
   "id": "52446c9d",
   "metadata": {},
   "outputs": [
    {
     "name": "stdout",
     "output_type": "stream",
     "text": [
      "1990\n"
     ]
    }
   ],
   "source": [
    "print(years_list[3])\n"
   ]
  },
  {
   "cell_type": "code",
   "execution_count": null,
   "id": "3e06f1b6",
   "metadata": {},
   "outputs": [],
   "source": [
    "\"\"\"\n",
    "3.In the years list, which year were you the oldest?\n",
    "\n",
    "\"\"\""
   ]
  },
  {
   "cell_type": "code",
   "execution_count": 3,
   "id": "f791ba48",
   "metadata": {},
   "outputs": [
    {
     "name": "stdout",
     "output_type": "stream",
     "text": [
      "2004\n"
     ]
    }
   ],
   "source": [
    "print(years_list[-1])\n"
   ]
  },
  {
   "cell_type": "code",
   "execution_count": null,
   "id": "ce82a852",
   "metadata": {},
   "outputs": [],
   "source": [
    "\"\"\"\n",
    "4. Make a list called things with these three strings as elements: \"mozzarella\", \"cinderella\", \"salmonella\".\n",
    "\n",
    "\"\"\""
   ]
  },
  {
   "cell_type": "code",
   "execution_count": 4,
   "id": "f8011285",
   "metadata": {},
   "outputs": [
    {
     "name": "stdout",
     "output_type": "stream",
     "text": [
      "['mozzarella', 'cinderella', 'salmonella']\n"
     ]
    }
   ],
   "source": [
    "things = [ele+'ella' for ele in ['mozzar','cinder','salmon']]\n",
    "print(things)"
   ]
  },
  {
   "cell_type": "code",
   "execution_count": null,
   "id": "896f11c5",
   "metadata": {},
   "outputs": [],
   "source": [
    "\"\"\"\n",
    "5. Capitalize the element in things that refers to a person and then print the list. Did it change the element in the list?\n",
    "\n",
    "\"\"\""
   ]
  },
  {
   "cell_type": "code",
   "execution_count": 5,
   "id": "fc6f7146",
   "metadata": {},
   "outputs": [
    {
     "name": "stdout",
     "output_type": "stream",
     "text": [
      "['mozzarella', 'Cinderella', 'salmonella']\n"
     ]
    }
   ],
   "source": [
    "for ele in range(len(things)):\n",
    "    if things[ele] == 'cinderella':\n",
    "        things[ele] = things[ele].capitalize()\n",
    "print(things)"
   ]
  },
  {
   "cell_type": "code",
   "execution_count": null,
   "id": "62cee73f",
   "metadata": {},
   "outputs": [],
   "source": [
    "\"\"\"\n",
    "6. Make a surprise list with the elements \"Groucho,\" \"Chico,\" and \"Harpo.\"\n",
    "\n",
    "\"\"\""
   ]
  },
  {
   "cell_type": "code",
   "execution_count": 6,
   "id": "936edb1d",
   "metadata": {},
   "outputs": [
    {
     "name": "stdout",
     "output_type": "stream",
     "text": [
      "['Groucho', 'Chico', 'Harpo']\n"
     ]
    }
   ],
   "source": [
    "suprise_list = ['Groucho','Chico','Harpo']\n",
    "print(suprise_list)"
   ]
  },
  {
   "cell_type": "code",
   "execution_count": null,
   "id": "94ac984e",
   "metadata": {},
   "outputs": [],
   "source": [
    "\"\"\"\n",
    "7. Lowercase the last element of the surprise list, reverse it, and then capitalize it.\n",
    "\n",
    "\"\"\""
   ]
  },
  {
   "cell_type": "code",
   "execution_count": 7,
   "id": "06c88d17",
   "metadata": {},
   "outputs": [
    {
     "name": "stdout",
     "output_type": "stream",
     "text": [
      "Oprah\n"
     ]
    }
   ],
   "source": [
    "print(suprise_list[-1].lower()[::-1].capitalize())\n"
   ]
  },
  {
   "cell_type": "code",
   "execution_count": null,
   "id": "8ff2fae7",
   "metadata": {},
   "outputs": [],
   "source": [
    "\"\"\"\n",
    "8. Make an English-to-French dictionary called e2f and print it. Here are your starter words: dog is chien, cat is chat, and walrus is morse.\n",
    "\n",
    "\"\"\""
   ]
  },
  {
   "cell_type": "code",
   "execution_count": 8,
   "id": "5a572310",
   "metadata": {},
   "outputs": [
    {
     "name": "stdout",
     "output_type": "stream",
     "text": [
      "{'dog': 'chien', 'cat': 'chat', 'walrus': 'morse'}\n"
     ]
    }
   ],
   "source": [
    "e2f = {'dog':'chien','cat':'chat','walrus':'morse'}\n",
    "print(e2f)"
   ]
  },
  {
   "cell_type": "code",
   "execution_count": null,
   "id": "d5bb2eaa",
   "metadata": {},
   "outputs": [],
   "source": [
    "\"\"\"\n",
    "9. Write the French word for walrus in your three-word dictionary e2f.\n",
    "\n",
    "\"\"\""
   ]
  },
  {
   "cell_type": "code",
   "execution_count": 9,
   "id": "d5fa3942",
   "metadata": {},
   "outputs": [
    {
     "name": "stdout",
     "output_type": "stream",
     "text": [
      "morse\n"
     ]
    }
   ],
   "source": [
    "print(e2f.get('walrus'))\n"
   ]
  },
  {
   "cell_type": "code",
   "execution_count": null,
   "id": "be353836",
   "metadata": {},
   "outputs": [],
   "source": [
    "\"\"\"\n",
    "10. Make a French-to-English dictionary called f2e from e2f. Use the items method.\n",
    "\n",
    "\"\"\""
   ]
  },
  {
   "cell_type": "code",
   "execution_count": 10,
   "id": "9d9071bd",
   "metadata": {},
   "outputs": [
    {
     "name": "stdout",
     "output_type": "stream",
     "text": [
      "{'chien': 'dog', 'chat': 'cat', 'morse': 'walrus'}\n"
     ]
    }
   ],
   "source": [
    "f2e = dict([ele[::-1] for ele in e2f.items()])\n",
    "print(f2e)"
   ]
  },
  {
   "cell_type": "code",
   "execution_count": null,
   "id": "eded676e",
   "metadata": {},
   "outputs": [],
   "source": [
    "\"\"\"\n",
    "11. Print the English version of the French word chien using f2e.\n",
    "\n",
    "\"\"\""
   ]
  },
  {
   "cell_type": "code",
   "execution_count": 11,
   "id": "4993fd06",
   "metadata": {},
   "outputs": [
    {
     "name": "stdout",
     "output_type": "stream",
     "text": [
      "dog\n"
     ]
    }
   ],
   "source": [
    "print(f2e.get('chien'))\n"
   ]
  },
  {
   "cell_type": "code",
   "execution_count": null,
   "id": "b35260f9",
   "metadata": {},
   "outputs": [],
   "source": [
    "\"\"\"\n",
    "12. Make and print a set of English words from the keys in e2f.\n",
    "\n",
    "\"\"\""
   ]
  },
  {
   "cell_type": "code",
   "execution_count": 12,
   "id": "3ea6cc9f",
   "metadata": {},
   "outputs": [
    {
     "name": "stdout",
     "output_type": "stream",
     "text": [
      "['dog', 'cat', 'walrus']\n"
     ]
    }
   ],
   "source": [
    "print(list(e2f.keys()))\n"
   ]
  },
  {
   "cell_type": "code",
   "execution_count": null,
   "id": "03f3516d",
   "metadata": {},
   "outputs": [],
   "source": [
    "\"\"\"\n",
    "13. Make a multilevel dictionary called life. Use these strings for the topmost keys: 'animals', 'plants', and 'other'. Make the 'animals' key refer to another dictionary with the keys 'cats', 'octopi', and 'emus'. Make the 'cats' key refer to a list of strings with the values 'Henri', 'Grumpy', and 'Lucy'. Make all the other keys refer to empty dictionaries.\n",
    "\n",
    "\"\"\""
   ]
  },
  {
   "cell_type": "code",
   "execution_count": 13,
   "id": "e434378f",
   "metadata": {},
   "outputs": [
    {
     "name": "stdout",
     "output_type": "stream",
     "text": [
      "{'animals': {'cats': ['Henri', 'Grumpy', 'Lucy'], 'octopi': {}, 'emus': {}}, 'plants': {}, 'other': {}}\n"
     ]
    }
   ],
   "source": [
    "life = {\n",
    "    'animals':{\n",
    "        'cats':['Henri','Grumpy','Lucy'],\n",
    "        'octopi':{},\n",
    "        'emus':{}\n",
    "    },\n",
    "    'plants':{},\n",
    "    'other':{}\n",
    "}\n",
    "print(life)"
   ]
  },
  {
   "cell_type": "code",
   "execution_count": null,
   "id": "cfbc2184",
   "metadata": {},
   "outputs": [],
   "source": [
    "\"\"\"\n",
    "14. Print the top-level keys of life.\n",
    "\n",
    "\"\"\""
   ]
  },
  {
   "cell_type": "code",
   "execution_count": 14,
   "id": "929f1f1a",
   "metadata": {},
   "outputs": [
    {
     "name": "stdout",
     "output_type": "stream",
     "text": [
      "['animals', 'plants', 'other']\n"
     ]
    }
   ],
   "source": [
    "print(list(life.keys()))\n"
   ]
  },
  {
   "cell_type": "code",
   "execution_count": null,
   "id": "933f85e2",
   "metadata": {},
   "outputs": [],
   "source": [
    "\"\"\"\n",
    "15. Print the keys for life['animals'].\n",
    "\n",
    "\"\"\""
   ]
  },
  {
   "cell_type": "code",
   "execution_count": 15,
   "id": "bdeae095",
   "metadata": {},
   "outputs": [
    {
     "name": "stdout",
     "output_type": "stream",
     "text": [
      "['cats', 'octopi', 'emus']\n"
     ]
    }
   ],
   "source": [
    "print(list(life['animals'].keys()))\n"
   ]
  },
  {
   "cell_type": "code",
   "execution_count": null,
   "id": "42424f0c",
   "metadata": {},
   "outputs": [],
   "source": [
    "\"\"\"\n",
    "16. Print the values for life['animals']['cats']\n",
    "\n",
    "\"\"\""
   ]
  },
  {
   "cell_type": "code",
   "execution_count": 16,
   "id": "d17cbd12",
   "metadata": {},
   "outputs": [
    {
     "name": "stdout",
     "output_type": "stream",
     "text": [
      "['Henri', 'Grumpy', 'Lucy']\n"
     ]
    }
   ],
   "source": [
    "print(life['animals']['cats'])\n"
   ]
  },
  {
   "cell_type": "code",
   "execution_count": null,
   "id": "6e7ceceb",
   "metadata": {},
   "outputs": [],
   "source": []
  }
 ],
 "metadata": {
  "kernelspec": {
   "display_name": "Python 3 (ipykernel)",
   "language": "python",
   "name": "python3"
  },
  "language_info": {
   "codemirror_mode": {
    "name": "ipython",
    "version": 3
   },
   "file_extension": ".py",
   "mimetype": "text/x-python",
   "name": "python",
   "nbconvert_exporter": "python",
   "pygments_lexer": "ipython3",
   "version": "3.9.12"
  }
 },
 "nbformat": 4,
 "nbformat_minor": 5
}
