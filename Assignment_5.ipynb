{
 "cells": [
  {
   "cell_type": "markdown",
   "id": "35e4ef7b",
   "metadata": {},
   "source": [
    "# Assignment 5"
   ]
  },
  {
   "cell_type": "code",
   "execution_count": null,
   "id": "dac09457",
   "metadata": {},
   "outputs": [],
   "source": [
    "\"\"\"\n",
    "1. What does an empty dictionary's code look like?.\n",
    "\"\"\"\n",
    "\"\"\"\n",
    "Ans - dict1 = {}\n",
    "\"\"\""
   ]
  },
  {
   "cell_type": "code",
   "execution_count": null,
   "id": "f811051d",
   "metadata": {},
   "outputs": [],
   "source": [
    "\"\"\"\n",
    "2. What is the value of a dictionary value with the key 'foo' and the value 42?\n",
    "\"\"\"\n",
    "\"\"\"\n",
    "Ans - dict = {'foo':42}\n",
    "\"\"\""
   ]
  },
  {
   "cell_type": "code",
   "execution_count": null,
   "id": "7eb03a77",
   "metadata": {},
   "outputs": [],
   "source": [
    "\"\"\"\n",
    "3. What is the most significant distinction between a dictionary and a list?\n",
    "\"\"\"\n",
    "\"\"\"\n",
    "Ans - Elements in list are ordered but elements in dictionary are not ordered. We can access list elements using index and for dictionary we can access elements using keys.\n",
    "\"\"\""
   ]
  },
  {
   "cell_type": "code",
   "execution_count": 6,
   "id": "4af9debe",
   "metadata": {},
   "outputs": [
    {
     "data": {
      "text/plain": [
       "\"\\nAns - It will give key error\\n\\nspam = {'bar':100}\\nspam['foo']\\n\\nKeyError                                  Traceback (most recent call last)\\nInput In [1], in <cell line: 8>()\\n      4 \\n      5 Ans - It will give key error\\n      6 \\n      7 spam = {'bar':100}\\n----> 8 spam['foo']\\n\\nKeyError: 'foo'\\n\""
      ]
     },
     "execution_count": 6,
     "metadata": {},
     "output_type": "execute_result"
    }
   ],
   "source": [
    "\"\"\"\n",
    "4. What happens if you try to access spam['foo'] if spam is {'bar': 100}?\n",
    "\"\"\"\n",
    "\"\"\"\n",
    "Ans - It will give key error\n",
    "\n",
    "spam = {'bar':100}\n",
    "spam['foo']\n",
    "\n",
    "KeyError                                  Traceback (most recent call last)\n",
    "Input In [1], in <cell line: 8>()\n",
    "      4 \n",
    "      5 Ans - It will give key error\n",
    "      6 \n",
    "      7 spam = {'bar':100}\n",
    "----> 8 spam['foo']\n",
    "\n",
    "KeyError: 'foo'\n",
    "\"\"\""
   ]
  },
  {
   "cell_type": "code",
   "execution_count": null,
   "id": "f16ac264",
   "metadata": {},
   "outputs": [],
   "source": [
    "\"\"\"\n",
    "5. If a dictionary is stored in spam, what is the difference between the expressions 'cat' in spam and 'cat' in spam.keys()?\n",
    "\"\"\"\n",
    "\"\"\"\n",
    "Ans - There will be no difference because both will check if 'cat' is dictionary in spam\n",
    "\"\"\""
   ]
  },
  {
   "cell_type": "code",
   "execution_count": null,
   "id": "d5a8baa5",
   "metadata": {},
   "outputs": [],
   "source": [
    "\"\"\"\n",
    "6. If a dictionary is stored in spam, what is the difference between the expressions 'cat' in spam and 'cat' in spam.values()?\n",
    "\"\"\"\n",
    "\"\"\"\n",
    "Ans - 'cat' in spam will check if 'cat' exists as a key in spam. 'cat' in spam.values() will check if 'cat' is a value in spam.\n",
    "\"\"\""
   ]
  },
  {
   "cell_type": "code",
   "execution_count": null,
   "id": "514b6df3",
   "metadata": {},
   "outputs": [],
   "source": [
    "\"\"\"\n",
    "7. What is a shortcut for the following code?\n",
    "if 'color' not in spam:\n",
    "spam['color'] = 'black'\n",
    "\"\"\"\n",
    "\"\"\"\n",
    "Ans - spam.setdefault('color','black')\n",
    "\"\"\""
   ]
  },
  {
   "cell_type": "code",
   "execution_count": 8,
   "id": "e4be61f4",
   "metadata": {},
   "outputs": [
    {
     "name": "stdout",
     "output_type": "stream",
     "text": [
      "{'a': 1, 'e': 3}\n"
     ]
    }
   ],
   "source": [
    "\"\"\"\n",
    "8. How do you \"pretty print\" dictionary values using which module and function?\n",
    "\"\"\"\n",
    "\"\"\"\n",
    "Ans - Module - pprint\n",
    "      Functions - pprint.pprint() and pprint.pformat()\n",
    "\"\"\"\n",
    "\n",
    "import pprint\n",
    "dict1 = {'a':1,'e':3}\n",
    "pprint.pprint(dict1)"
   ]
  }
 ],
 "metadata": {
  "kernelspec": {
   "display_name": "Python 3 (ipykernel)",
   "language": "python",
   "name": "python3"
  },
  "language_info": {
   "codemirror_mode": {
    "name": "ipython",
    "version": 3
   },
   "file_extension": ".py",
   "mimetype": "text/x-python",
   "name": "python",
   "nbconvert_exporter": "python",
   "pygments_lexer": "ipython3",
   "version": "3.9.12"
  }
 },
 "nbformat": 4,
 "nbformat_minor": 5
}
